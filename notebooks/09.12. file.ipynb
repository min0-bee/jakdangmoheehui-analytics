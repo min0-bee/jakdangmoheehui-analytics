{
 "cells": [
  {
   "cell_type": "code",
   "execution_count": 1,
   "id": "582fd424",
   "metadata": {},
   "outputs": [],
   "source": [
    "# 이 곳에 코드를 업로드하고 파일을 관리합니다. "
   ]
  }
 ],
 "metadata": {
  "kernelspec": {
   "display_name": "Python (project)",
   "language": "python",
   "name": "project"
  },
  "language_info": {
   "codemirror_mode": {
    "name": "ipython",
    "version": 3
   },
   "file_extension": ".py",
   "mimetype": "text/x-python",
   "name": "python",
   "nbconvert_exporter": "python",
   "pygments_lexer": "ipython3",
   "version": "3.10.18"
  }
 },
 "nbformat": 4,
 "nbformat_minor": 5
}
