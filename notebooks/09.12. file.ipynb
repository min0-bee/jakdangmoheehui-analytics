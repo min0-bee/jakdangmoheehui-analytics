{
 "cells": [
  {
   "cell_type": "code",
   "execution_count": 1,
   "id": "582fd424",
   "metadata": {},
<<<<<<< HEAD
   "outputs": [
    {
     "name": "stdout",
     "output_type": "stream",
     "text": [
      "WARNING:tensorflow:From C:\\Users\\USER\\anaconda3\\envs\\project\\lib\\site-packages\\keras\\src\\losses.py:2976: The name tf.losses.sparse_softmax_cross_entropy is deprecated. Please use tf.compat.v1.losses.sparse_softmax_cross_entropy instead.\n",
      "\n",
      "Python: 3.10.18 | OS: Windows\n",
      "NumPy: 1.26.4 | pandas: 2.3.1 | sklearn: 1.7.1\n",
      "Torch: 2.8.0+cpu | CUDA: False\n",
      "TF: 2.15.0 | Built with CUDA: False\n"
     ]
    }
   ],
   "source": [
    "# 이 곳에 코드를 업로드하고 파일을 관리합니다. "
   ]
  },
  {
   "cell_type": "code",
   "execution_count": null,
   "id": "35a8b66c-322c-418f-b0de-6fb6e9aec8c2",
   "metadata": {},
=======
>>>>>>> 93db854d1306edb1c27909a7e4376eb2fd2eb9ad
   "outputs": [],
   "source": [
    "# 이 곳에 코드를 업로드하고 파일을 관리합니다. "
   ]
  }
 ],
 "metadata": {
  "kernelspec": {
   "display_name": "Python (project)",
   "language": "python",
   "name": "project"
  },
  "language_info": {
   "codemirror_mode": {
    "name": "ipython",
    "version": 3
   },
   "file_extension": ".py",
   "mimetype": "text/x-python",
   "name": "python",
   "nbconvert_exporter": "python",
   "pygments_lexer": "ipython3",
   "version": "3.10.18"
  }
 },
 "nbformat": 4,
 "nbformat_minor": 5
}
